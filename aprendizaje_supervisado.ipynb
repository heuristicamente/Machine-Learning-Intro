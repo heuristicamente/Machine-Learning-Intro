{
 "cells": [
  {
   "cell_type": "markdown",
   "metadata": {},
   "source": [
    "# Machine Learning: Aprendizaje Supervisado\n",
    "___"
   ]
  },
  {
   "cell_type": "markdown",
   "metadata": {},
   "source": [
    " - **Lenguaje:** Python\n",
    " - **Librería:** scikit-learn"
   ]
  },
  {
   "cell_type": "markdown",
   "metadata": {},
   "source": [
    "## 1. Clasificación\n",
    "___"
   ]
  },
  {
   "cell_type": "markdown",
   "metadata": {},
   "source": [
    " - **Conjunto de datos:** Iris\n",
    " - **Problema:** Identificar la especie a la que pertenece una flor.\n",
    " - **Características:** `Longitud sépalo`, `Anchura sépalo`, `Longitud pétalo`, `Anchura pétalo`.\n",
    " - **Solución:** Especie a la que pertenece la flor:\n",
    "    - `IRIS SETOSA`\n",
    "    - `IRIS VERSICOLOR`\n",
    "    - `IRIS VIRGINICA`"
   ]
  },
  {
   "cell_type": "markdown",
   "metadata": {},
   "source": [
    "### 1.1. Cargamos el Conjunto de Datos"
   ]
  },
  {
   "cell_type": "code",
   "execution_count": 1,
   "metadata": {},
   "outputs": [],
   "source": [
    "# Importamos función para cargar el conjunto de datos Iris\n",
    "from sklearn.datasets import load_iris\n",
    "iris = load_iris()  # Cargamos el conjunto de datos Iris"
   ]
  },
  {
   "cell_type": "markdown",
   "metadata": {},
   "source": [
    "El conjunto de datos tiene dos elementos:\n",
    "\n",
    " - **Características (X):** Mediciones de cada objeto o ejemplo que queremos clasificar. En este caso, mediciones de flores.\n",
    " - **Solución (Y):** Etiquetas de clase. En este caso, la especie de la flor."
   ]
  },
  {
   "cell_type": "code",
   "execution_count": 2,
   "metadata": {},
   "outputs": [],
   "source": [
    "X = iris.data    # Características (X)\n",
    "Y = iris.target  # Solución (Y)"
   ]
  },
  {
   "cell_type": "markdown",
   "metadata": {},
   "source": [
    "#### Características"
   ]
  },
  {
   "cell_type": "code",
   "execution_count": 3,
   "metadata": {},
   "outputs": [
    {
     "data": {
      "text/html": [
       "<div>\n",
       "<style scoped>\n",
       "    .dataframe tbody tr th:only-of-type {\n",
       "        vertical-align: middle;\n",
       "    }\n",
       "\n",
       "    .dataframe tbody tr th {\n",
       "        vertical-align: top;\n",
       "    }\n",
       "\n",
       "    .dataframe thead th {\n",
       "        text-align: right;\n",
       "    }\n",
       "</style>\n",
       "<table border=\"1\" class=\"dataframe\">\n",
       "  <thead>\n",
       "    <tr style=\"text-align: right;\">\n",
       "      <th></th>\n",
       "      <th>sepal length (cm)</th>\n",
       "      <th>sepal width (cm)</th>\n",
       "      <th>petal length (cm)</th>\n",
       "      <th>petal width (cm)</th>\n",
       "      <th>Clase</th>\n",
       "    </tr>\n",
       "  </thead>\n",
       "  <tbody>\n",
       "    <tr>\n",
       "      <td>0</td>\n",
       "      <td>5.1</td>\n",
       "      <td>3.5</td>\n",
       "      <td>1.4</td>\n",
       "      <td>0.2</td>\n",
       "      <td>setosa</td>\n",
       "    </tr>\n",
       "    <tr>\n",
       "      <td>1</td>\n",
       "      <td>4.9</td>\n",
       "      <td>3.0</td>\n",
       "      <td>1.4</td>\n",
       "      <td>0.2</td>\n",
       "      <td>setosa</td>\n",
       "    </tr>\n",
       "    <tr>\n",
       "      <td>2</td>\n",
       "      <td>4.7</td>\n",
       "      <td>3.2</td>\n",
       "      <td>1.3</td>\n",
       "      <td>0.2</td>\n",
       "      <td>setosa</td>\n",
       "    </tr>\n",
       "    <tr>\n",
       "      <td>3</td>\n",
       "      <td>4.6</td>\n",
       "      <td>3.1</td>\n",
       "      <td>1.5</td>\n",
       "      <td>0.2</td>\n",
       "      <td>setosa</td>\n",
       "    </tr>\n",
       "    <tr>\n",
       "      <td>4</td>\n",
       "      <td>5.0</td>\n",
       "      <td>3.6</td>\n",
       "      <td>1.4</td>\n",
       "      <td>0.2</td>\n",
       "      <td>setosa</td>\n",
       "    </tr>\n",
       "  </tbody>\n",
       "</table>\n",
       "</div>"
      ],
      "text/plain": [
       "   sepal length (cm)  sepal width (cm)  petal length (cm)  petal width (cm)  \\\n",
       "0                5.1               3.5                1.4               0.2   \n",
       "1                4.9               3.0                1.4               0.2   \n",
       "2                4.7               3.2                1.3               0.2   \n",
       "3                4.6               3.1                1.5               0.2   \n",
       "4                5.0               3.6                1.4               0.2   \n",
       "\n",
       "    Clase  \n",
       "0  setosa  \n",
       "1  setosa  \n",
       "2  setosa  \n",
       "3  setosa  \n",
       "4  setosa  "
      ]
     },
     "execution_count": 3,
     "metadata": {},
     "output_type": "execute_result"
    }
   ],
   "source": [
    "import pandas as pd\n",
    "# Crea un DataFrame con los ejemplos y los nombres de las características\n",
    "iris_df = pd.DataFrame(X, columns=iris.feature_names)\n",
    "# Añadimos la solución (clase)\n",
    "iris_df['Clase'] = iris.target_names[Y]\n",
    "# Muestra los 5 primeros ejemplos de flores con su solución\n",
    "iris_df.head()"
   ]
  },
  {
   "cell_type": "markdown",
   "metadata": {},
   "source": [
    "¿Cuántos ejemplos de flores hay en el conjunto de datos?"
   ]
  },
  {
   "cell_type": "code",
   "execution_count": 4,
   "metadata": {},
   "outputs": [
    {
     "data": {
      "text/plain": [
       "(150, 4)"
      ]
     },
     "execution_count": 4,
     "metadata": {},
     "output_type": "execute_result"
    }
   ],
   "source": [
    "X.shape   # Número de filas (ejemplos) y columnas (características) de la matriz \"X\""
   ]
  },
  {
   "cell_type": "markdown",
   "metadata": {},
   "source": [
    "#### Solución"
   ]
  },
  {
   "cell_type": "code",
   "execution_count": 5,
   "metadata": {},
   "outputs": [
    {
     "data": {
      "text/plain": [
       "array([0, 0, 0, 0, 0, 0, 0, 0, 0, 0, 0, 0, 0, 0, 0, 0, 0, 0, 0, 0, 0, 0,\n",
       "       0, 0, 0, 0, 0, 0, 0, 0, 0, 0, 0, 0, 0, 0, 0, 0, 0, 0, 0, 0, 0, 0,\n",
       "       0, 0, 0, 0, 0, 0, 1, 1, 1, 1, 1, 1, 1, 1, 1, 1, 1, 1, 1, 1, 1, 1,\n",
       "       1, 1, 1, 1, 1, 1, 1, 1, 1, 1, 1, 1, 1, 1, 1, 1, 1, 1, 1, 1, 1, 1,\n",
       "       1, 1, 1, 1, 1, 1, 1, 1, 1, 1, 1, 1, 2, 2, 2, 2, 2, 2, 2, 2, 2, 2,\n",
       "       2, 2, 2, 2, 2, 2, 2, 2, 2, 2, 2, 2, 2, 2, 2, 2, 2, 2, 2, 2, 2, 2,\n",
       "       2, 2, 2, 2, 2, 2, 2, 2, 2, 2, 2, 2, 2, 2, 2, 2, 2, 2])"
      ]
     },
     "execution_count": 5,
     "metadata": {},
     "output_type": "execute_result"
    }
   ],
   "source": [
    "Y   # Muestra el vector \"Y\""
   ]
  },
  {
   "cell_type": "markdown",
   "metadata": {},
   "source": [
    "¿Cuántas etiquetas de clase hay?"
   ]
  },
  {
   "cell_type": "code",
   "execution_count": 6,
   "metadata": {},
   "outputs": [
    {
     "data": {
      "text/plain": [
       "150"
      ]
     },
     "execution_count": 6,
     "metadata": {},
     "output_type": "execute_result"
    }
   ],
   "source": [
    "len(Y)   # Número de elementos del vector \"Y\""
   ]
  },
  {
   "cell_type": "code",
   "execution_count": 7,
   "metadata": {
    "scrolled": true
   },
   "outputs": [
    {
     "data": {
      "text/plain": [
       "array(['setosa', 'setosa', 'setosa', 'setosa', 'setosa', 'setosa',\n",
       "       'setosa', 'setosa', 'setosa', 'setosa', 'setosa', 'setosa',\n",
       "       'setosa', 'setosa', 'setosa', 'setosa', 'setosa', 'setosa',\n",
       "       'setosa', 'setosa', 'setosa', 'setosa', 'setosa', 'setosa',\n",
       "       'setosa', 'setosa', 'setosa', 'setosa', 'setosa', 'setosa',\n",
       "       'setosa', 'setosa', 'setosa', 'setosa', 'setosa', 'setosa',\n",
       "       'setosa', 'setosa', 'setosa', 'setosa', 'setosa', 'setosa',\n",
       "       'setosa', 'setosa', 'setosa', 'setosa', 'setosa', 'setosa',\n",
       "       'setosa', 'setosa', 'versicolor', 'versicolor', 'versicolor',\n",
       "       'versicolor', 'versicolor', 'versicolor', 'versicolor',\n",
       "       'versicolor', 'versicolor', 'versicolor', 'versicolor',\n",
       "       'versicolor', 'versicolor', 'versicolor', 'versicolor',\n",
       "       'versicolor', 'versicolor', 'versicolor', 'versicolor',\n",
       "       'versicolor', 'versicolor', 'versicolor', 'versicolor',\n",
       "       'versicolor', 'versicolor', 'versicolor', 'versicolor',\n",
       "       'versicolor', 'versicolor', 'versicolor', 'versicolor',\n",
       "       'versicolor', 'versicolor', 'versicolor', 'versicolor',\n",
       "       'versicolor', 'versicolor', 'versicolor', 'versicolor',\n",
       "       'versicolor', 'versicolor', 'versicolor', 'versicolor',\n",
       "       'versicolor', 'versicolor', 'versicolor', 'versicolor',\n",
       "       'versicolor', 'versicolor', 'versicolor', 'virginica', 'virginica',\n",
       "       'virginica', 'virginica', 'virginica', 'virginica', 'virginica',\n",
       "       'virginica', 'virginica', 'virginica', 'virginica', 'virginica',\n",
       "       'virginica', 'virginica', 'virginica', 'virginica', 'virginica',\n",
       "       'virginica', 'virginica', 'virginica', 'virginica', 'virginica',\n",
       "       'virginica', 'virginica', 'virginica', 'virginica', 'virginica',\n",
       "       'virginica', 'virginica', 'virginica', 'virginica', 'virginica',\n",
       "       'virginica', 'virginica', 'virginica', 'virginica', 'virginica',\n",
       "       'virginica', 'virginica', 'virginica', 'virginica', 'virginica',\n",
       "       'virginica', 'virginica', 'virginica', 'virginica', 'virginica',\n",
       "       'virginica', 'virginica', 'virginica'], dtype='<U10')"
      ]
     },
     "execution_count": 7,
     "metadata": {},
     "output_type": "execute_result"
    }
   ],
   "source": [
    "iris.target_names[Y]"
   ]
  },
  {
   "cell_type": "markdown",
   "metadata": {},
   "source": [
    "### 1.2. Dividimos el Conjunto de Datos"
   ]
  },
  {
   "cell_type": "markdown",
   "metadata": {},
   "source": [
    "Dividimos el conjunto de datos en dos:\n",
    "\n",
    " - Conjunto de entrenamiento (o `training set`)\n",
    "\n",
    " - Conjunto de prueba (o `test set`)"
   ]
  },
  {
   "cell_type": "code",
   "execution_count": 8,
   "metadata": {},
   "outputs": [],
   "source": [
    "# Importamos función para dividir el conjunto de datos\n",
    "from sklearn.model_selection import train_test_split\n",
    "# Fijamos semilla para generar números aleatorios (por reproducibilidad,\n",
    "# para que obtengamos los mismos resultados cada vez)\n",
    "semilla = 3\n",
    "# Dividimos el conjunto de datos (70% entrenamiento, 30% prueba)\n",
    "X_train,X_test,Y_train,Y_test = train_test_split(X,Y,test_size=.3,random_state=semilla)"
   ]
  },
  {
   "cell_type": "markdown",
   "metadata": {},
   "source": [
    "Resultado:\n",
    "\n",
    " - `X_train`: Ejemplos del conjunto de entrenamiento.\n",
    " - `Y_train`: Soluciones del conjunto de entrenamiento (etiquetas).\n",
    " - `X_test`: Ejemplos del conjunto de prueba.\n",
    " - `Y_test`: Soluciones del conjunto de prueba (etiquetas)."
   ]
  },
  {
   "cell_type": "markdown",
   "metadata": {},
   "source": [
    "#### Número de ejemplos en el conjunto de entrenamiento"
   ]
  },
  {
   "cell_type": "code",
   "execution_count": 9,
   "metadata": {},
   "outputs": [
    {
     "data": {
      "text/plain": [
       "105"
      ]
     },
     "execution_count": 9,
     "metadata": {},
     "output_type": "execute_result"
    }
   ],
   "source": [
    "len(X_train)"
   ]
  },
  {
   "cell_type": "markdown",
   "metadata": {},
   "source": [
    "#### Número de ejemplos en el conjunto de prueba"
   ]
  },
  {
   "cell_type": "code",
   "execution_count": 10,
   "metadata": {},
   "outputs": [
    {
     "data": {
      "text/plain": [
       "45"
      ]
     },
     "execution_count": 10,
     "metadata": {},
     "output_type": "execute_result"
    }
   ],
   "source": [
    "# Lo guardamos en una variable (se utiliza después)\n",
    "n_ejemplos_test = len(X_test)\n",
    "n_ejemplos_test"
   ]
  },
  {
   "cell_type": "markdown",
   "metadata": {},
   "source": [
    "### 1.3. Importamos el Algoritmo de Machine Learning"
   ]
  },
  {
   "cell_type": "code",
   "execution_count": 11,
   "metadata": {},
   "outputs": [],
   "source": [
    "# Importamos funciones para árboles de decisión\n",
    "from sklearn import tree\n",
    "clasificador = tree.DecisionTreeClassifier(random_state=semilla)"
   ]
  },
  {
   "cell_type": "markdown",
   "metadata": {},
   "source": [
    "### 1.4. Entrenamiento"
   ]
  },
  {
   "cell_type": "markdown",
   "metadata": {},
   "source": [
    "Algoritmo o función de aprendizaje (`fit`):\n",
    " - Entrada:\n",
    "    - Conjunto de entrenamiento:\n",
    "       - Ejemplos de entrenamiento (`X_train`)\n",
    "       - Etiquetas de los ejemplos de entrenamiento (`Y_train`)"
   ]
  },
  {
   "cell_type": "code",
   "execution_count": 12,
   "metadata": {},
   "outputs": [],
   "source": [
    "clasificador.fit(X_train,Y_train);"
   ]
  },
  {
   "cell_type": "markdown",
   "metadata": {},
   "source": [
    "Resultado: Modelo (representación del conocimiento aprendido)."
   ]
  },
  {
   "cell_type": "markdown",
   "metadata": {},
   "source": [
    "### 1.5. Test"
   ]
  },
  {
   "cell_type": "markdown",
   "metadata": {},
   "source": [
    "Algoritmo o función de inferencia (`predict`):\n",
    " - Entrada:\n",
    "    - Conjunto de prueba:\n",
    "       - Ejemplos de prueba (`X_test`)\n",
    " - Salida:\n",
    "    - Solución (etiqueta de clase)"
   ]
  },
  {
   "cell_type": "markdown",
   "metadata": {},
   "source": [
    "#### Predecimos solución de un único nuevo ejemplo"
   ]
  },
  {
   "cell_type": "code",
   "execution_count": 13,
   "metadata": {},
   "outputs": [
    {
     "data": {
      "text/plain": [
       "array([[4.6, 3.2, 1.4, 0.2]])"
      ]
     },
     "execution_count": 13,
     "metadata": {},
     "output_type": "execute_result"
    }
   ],
   "source": [
    "X_test[:1]"
   ]
  },
  {
   "cell_type": "code",
   "execution_count": 14,
   "metadata": {},
   "outputs": [],
   "source": [
    "especie = clasificador.predict(X_test[:1])"
   ]
  },
  {
   "cell_type": "code",
   "execution_count": 15,
   "metadata": {},
   "outputs": [
    {
     "data": {
      "text/plain": [
       "array([0])"
      ]
     },
     "execution_count": 15,
     "metadata": {},
     "output_type": "execute_result"
    }
   ],
   "source": [
    "especie"
   ]
  },
  {
   "cell_type": "code",
   "execution_count": 16,
   "metadata": {},
   "outputs": [
    {
     "data": {
      "text/plain": [
       "'setosa'"
      ]
     },
     "execution_count": 16,
     "metadata": {},
     "output_type": "execute_result"
    }
   ],
   "source": [
    "iris.target_names[especie[0]]"
   ]
  },
  {
   "cell_type": "markdown",
   "metadata": {},
   "source": [
    "#### Predecimos soluciones para todo el conjunto de prueba"
   ]
  },
  {
   "cell_type": "code",
   "execution_count": 17,
   "metadata": {},
   "outputs": [],
   "source": [
    "Y_pred = clasificador.predict(X_test)"
   ]
  },
  {
   "cell_type": "code",
   "execution_count": 18,
   "metadata": {},
   "outputs": [
    {
     "data": {
      "text/plain": [
       "array([0, 0, 0, 0, 0, 2, 1, 0, 2, 1, 1, 0, 1, 1, 2, 0, 2, 2, 2, 0, 2, 2,\n",
       "       2, 2, 0, 2, 2, 1, 1, 1, 0, 0, 2, 1, 0, 0, 2, 0, 2, 1, 2, 1, 0, 0,\n",
       "       2])"
      ]
     },
     "execution_count": 18,
     "metadata": {},
     "output_type": "execute_result"
    }
   ],
   "source": [
    "Y_pred  # Predicciones"
   ]
  },
  {
   "cell_type": "code",
   "execution_count": 19,
   "metadata": {},
   "outputs": [
    {
     "data": {
      "text/plain": [
       "array(['setosa', 'setosa', 'setosa', 'setosa', 'setosa', 'virginica',\n",
       "       'versicolor', 'setosa', 'virginica', 'versicolor', 'versicolor',\n",
       "       'setosa', 'versicolor', 'versicolor', 'virginica', 'setosa',\n",
       "       'virginica', 'virginica', 'virginica', 'setosa', 'virginica',\n",
       "       'virginica', 'virginica', 'virginica', 'setosa', 'virginica',\n",
       "       'virginica', 'versicolor', 'versicolor', 'versicolor', 'setosa',\n",
       "       'setosa', 'virginica', 'versicolor', 'setosa', 'setosa',\n",
       "       'virginica', 'setosa', 'virginica', 'versicolor', 'virginica',\n",
       "       'versicolor', 'setosa', 'setosa', 'virginica'], dtype='<U10')"
      ]
     },
     "execution_count": 19,
     "metadata": {},
     "output_type": "execute_result"
    }
   ],
   "source": [
    "iris.target_names[Y_pred]"
   ]
  },
  {
   "cell_type": "markdown",
   "metadata": {},
   "source": [
    "### 1.6. Medimos el Rendimiento"
   ]
  },
  {
   "cell_type": "markdown",
   "metadata": {},
   "source": [
    "$$Tasa\\ de\\ Aciertos = \\frac{\\#\\ Predicciones\\ Correctas}{\\#\\ Total\\ de\\ Predicciones}$$"
   ]
  },
  {
   "cell_type": "code",
   "execution_count": 20,
   "metadata": {},
   "outputs": [
    {
     "data": {
      "text/plain": [
       "0.9333333333333333"
      ]
     },
     "execution_count": 20,
     "metadata": {},
     "output_type": "execute_result"
    }
   ],
   "source": [
    "# Importamos función para calcular tasa de aciertos (accuracy)\n",
    "from sklearn.metrics import accuracy_score\n",
    "# Calculamos tasa de aciertos\n",
    "tasa_de_aciertos = accuracy_score(Y_test,Y_pred)\n",
    "tasa_de_aciertos"
   ]
  },
  {
   "cell_type": "code",
   "execution_count": 21,
   "metadata": {},
   "outputs": [
    {
     "data": {
      "text/plain": [
       "array(['setosa', 'setosa', 'setosa', 'setosa', 'setosa', 'virginica',\n",
       "       'versicolor', 'setosa', 'virginica', 'versicolor', 'versicolor',\n",
       "       'setosa', 'versicolor', 'versicolor', 'virginica', 'setosa',\n",
       "       'versicolor', 'virginica', 'virginica', 'setosa', 'virginica',\n",
       "       'virginica', 'virginica', 'versicolor', 'setosa', 'virginica',\n",
       "       'virginica', 'versicolor', 'versicolor', 'versicolor', 'setosa',\n",
       "       'setosa', 'virginica', 'versicolor', 'setosa', 'setosa',\n",
       "       'versicolor', 'setosa', 'virginica', 'versicolor', 'virginica',\n",
       "       'versicolor', 'setosa', 'setosa', 'virginica'], dtype='<U10')"
      ]
     },
     "execution_count": 21,
     "metadata": {},
     "output_type": "execute_result"
    }
   ],
   "source": [
    "# Etiquetas correctas\n",
    "iris.target_names[Y_test]"
   ]
  },
  {
   "cell_type": "code",
   "execution_count": 22,
   "metadata": {},
   "outputs": [
    {
     "data": {
      "text/plain": [
       "array(['setosa', 'setosa', 'setosa', 'setosa', 'setosa', 'virginica',\n",
       "       'versicolor', 'setosa', 'virginica', 'versicolor', 'versicolor',\n",
       "       'setosa', 'versicolor', 'versicolor', 'virginica', 'setosa',\n",
       "       'virginica', 'virginica', 'virginica', 'setosa', 'virginica',\n",
       "       'virginica', 'virginica', 'virginica', 'setosa', 'virginica',\n",
       "       'virginica', 'versicolor', 'versicolor', 'versicolor', 'setosa',\n",
       "       'setosa', 'virginica', 'versicolor', 'setosa', 'setosa',\n",
       "       'virginica', 'setosa', 'virginica', 'versicolor', 'virginica',\n",
       "       'versicolor', 'setosa', 'setosa', 'virginica'], dtype='<U10')"
      ]
     },
     "execution_count": 22,
     "metadata": {},
     "output_type": "execute_result"
    }
   ],
   "source": [
    "# Etiquetas asignadas por el algoritmo\n",
    "iris.target_names[Y_pred]"
   ]
  },
  {
   "cell_type": "code",
   "execution_count": 23,
   "metadata": {},
   "outputs": [
    {
     "name": "stdout",
     "output_type": "stream",
     "text": [
      "Ejemplos de test: 45\n",
      "Ejemplos clasificados correctamente: 42\n",
      "Ejemplos clasificados erróneamente: 3\n",
      "Tasa de aciertos: 0.933\n",
      "Tasa de fallos: 0.067\n"
     ]
    }
   ],
   "source": [
    "tasa_de_fallos = 1 - tasa_de_aciertos\n",
    "n_aciertos = int(round(n_ejemplos_test*tasa_de_aciertos))\n",
    "n_fallos = int(round(n_ejemplos_test*tasa_de_fallos))\n",
    "print('Ejemplos de test: %d' % n_ejemplos_test)\n",
    "print('Ejemplos clasificados correctamente: %d' % n_aciertos)\n",
    "print('Ejemplos clasificados erróneamente: %d' % n_fallos)\n",
    "print('Tasa de aciertos: %.3f' % tasa_de_aciertos)\n",
    "print('Tasa de fallos: %.3f' % tasa_de_fallos)"
   ]
  },
  {
   "cell_type": "markdown",
   "metadata": {},
   "source": [
    "### Código Completo del Ejemplo"
   ]
  },
  {
   "cell_type": "code",
   "execution_count": 24,
   "metadata": {},
   "outputs": [
    {
     "name": "stdout",
     "output_type": "stream",
     "text": [
      "Ejemplos de test: 45\n",
      "Ejemplos clasificados correctamente: 42\n",
      "Ejemplos clasificados erróneamente: 3\n",
      "Tasa de aciertos: 0.933\n",
      "Tasa de fallos: 0.067\n"
     ]
    }
   ],
   "source": [
    "# Importamos función para cargar el conjunto de datos Iris\n",
    "from sklearn.datasets import load_iris\n",
    "iris = load_iris()  # Cargamos el conjunto de datos Iris\n",
    "X = iris.data    # Características (X)\n",
    "Y = iris.target  # Solución (Y)\n",
    "# Importamos función para dividir el conjunto de datos\n",
    "from sklearn.model_selection import train_test_split\n",
    "# Fijamos semilla para generar números aleatorios (por reproducibilidad,\n",
    "# para que obtengamos los mismos resultados cada vez)\n",
    "semilla = 3\n",
    "# Dividimos el conjunto de datos (70% entrenamiento, 30% prueba)\n",
    "X_train,X_test,Y_train,Y_test = train_test_split(X,Y,test_size=.3,random_state=semilla)\n",
    "n_ejemplos_test = len(X_test)   # Número de ejemplos en el conjunto de test\n",
    "from sklearn import tree   # Importamos funciones para árboles de decisión\n",
    "clasificador = tree.DecisionTreeClassifier(random_state=semilla) # Creamos clasificador\n",
    "clasificador.fit(X_train,Y_train) # Entrenamiento\n",
    "Y_pred = clasificador.predict(X_test) # Test\n",
    "# Evaluación del rendimiento del modelo\n",
    "# Importamos función para calcular tasa de aciertos\n",
    "from sklearn.metrics import accuracy_score\n",
    "# Calculamos tasa de aciertos\n",
    "tasa_de_aciertos = accuracy_score(Y_test,Y_pred)\n",
    "tasa_de_fallos = 1 - tasa_de_aciertos\n",
    "n_aciertos = int(round(n_ejemplos_test*tasa_de_aciertos))\n",
    "n_fallos = int(round(n_ejemplos_test*tasa_de_fallos))\n",
    "print('Ejemplos de test: %d' % n_ejemplos_test)\n",
    "print('Ejemplos clasificados correctamente: %d' % n_aciertos)\n",
    "print('Ejemplos clasificados erróneamente: %d' % n_fallos)\n",
    "print('Tasa de aciertos: %.3f' % tasa_de_aciertos)\n",
    "print('Tasa de fallos: %.3f' % tasa_de_fallos)"
   ]
  },
  {
   "cell_type": "markdown",
   "metadata": {},
   "source": [
    "## 2. Dos Tipos de Problemas\n",
    "___"
   ]
  },
  {
   "cell_type": "markdown",
   "metadata": {},
   "source": [
    "Aprendizaje supervisado:\n",
    "\n",
    " - **Clasificación:** Solución discreta (etiqueta de clase). Identificar a qué clase pertenece un objeto.\n",
    " - **Regresión:** Solución continua (valor numérico). Predecir un valor numérico asociado a un objeto."
   ]
  },
  {
   "cell_type": "markdown",
   "metadata": {},
   "source": [
    "## 3. Regresión\n",
    "___"
   ]
  },
  {
   "cell_type": "markdown",
   "metadata": {},
   "source": [
    " - **Conjunto de datos:** Boston House Prices\n",
    " - **Problema:** Estimar el precio de una vivienda.\n",
    " - **Características:** Hay 13. Algunas de ellas (simplificadas):\n",
    "    - Número medio de `habitaciones` por vivienda.\n",
    "    - `Antigüedad` de las viviendas.\n",
    "    - Concentración de `óxidos de nitrógeno` en la zona.\n",
    "    - Índice de `criminalidad` de la población.\n",
    " - **Solución:** Precio de la vivienda."
   ]
  },
  {
   "cell_type": "markdown",
   "metadata": {},
   "source": [
    "### 3.1. Cargamos el conjunto de datos"
   ]
  },
  {
   "cell_type": "code",
   "execution_count": 25,
   "metadata": {},
   "outputs": [],
   "source": [
    "# Importamos función para cargar el conjunto de datos Boston\n",
    "from sklearn.datasets import load_boston\n",
    "boston = load_boston()  # Cargamos el conjunto de datos Boston"
   ]
  },
  {
   "cell_type": "markdown",
   "metadata": {},
   "source": [
    "El conjunto de datos tiene dos elementos:\n",
    "\n",
    " - **Características (X):** Mediciones de cada objeto o ejemplo. En este caso, información sobre la zona de la vivienda.\n",
    " - **Solución (Y):** Valor númérico. Precio de la vivienda (en miles de $)."
   ]
  },
  {
   "cell_type": "code",
   "execution_count": 26,
   "metadata": {},
   "outputs": [],
   "source": [
    "X = boston.data    # Características (X)\n",
    "Y = boston.target  # Solución (Y)"
   ]
  },
  {
   "cell_type": "markdown",
   "metadata": {},
   "source": [
    "#### Características"
   ]
  },
  {
   "cell_type": "code",
   "execution_count": 27,
   "metadata": {},
   "outputs": [
    {
     "data": {
      "text/html": [
       "<div>\n",
       "<style scoped>\n",
       "    .dataframe tbody tr th:only-of-type {\n",
       "        vertical-align: middle;\n",
       "    }\n",
       "\n",
       "    .dataframe tbody tr th {\n",
       "        vertical-align: top;\n",
       "    }\n",
       "\n",
       "    .dataframe thead th {\n",
       "        text-align: right;\n",
       "    }\n",
       "</style>\n",
       "<table border=\"1\" class=\"dataframe\">\n",
       "  <thead>\n",
       "    <tr style=\"text-align: right;\">\n",
       "      <th></th>\n",
       "      <th>CRIM</th>\n",
       "      <th>ZN</th>\n",
       "      <th>INDUS</th>\n",
       "      <th>CHAS</th>\n",
       "      <th>NOX</th>\n",
       "      <th>RM</th>\n",
       "      <th>AGE</th>\n",
       "      <th>DIS</th>\n",
       "      <th>RAD</th>\n",
       "      <th>TAX</th>\n",
       "      <th>PTRATIO</th>\n",
       "      <th>B</th>\n",
       "      <th>LSTAT</th>\n",
       "      <th>Precio (1000$)</th>\n",
       "    </tr>\n",
       "  </thead>\n",
       "  <tbody>\n",
       "    <tr>\n",
       "      <td>0</td>\n",
       "      <td>0.00632</td>\n",
       "      <td>18.0</td>\n",
       "      <td>2.31</td>\n",
       "      <td>0.0</td>\n",
       "      <td>0.538</td>\n",
       "      <td>6.575</td>\n",
       "      <td>65.2</td>\n",
       "      <td>4.0900</td>\n",
       "      <td>1.0</td>\n",
       "      <td>296.0</td>\n",
       "      <td>15.3</td>\n",
       "      <td>396.90</td>\n",
       "      <td>4.98</td>\n",
       "      <td>24.0</td>\n",
       "    </tr>\n",
       "    <tr>\n",
       "      <td>1</td>\n",
       "      <td>0.02731</td>\n",
       "      <td>0.0</td>\n",
       "      <td>7.07</td>\n",
       "      <td>0.0</td>\n",
       "      <td>0.469</td>\n",
       "      <td>6.421</td>\n",
       "      <td>78.9</td>\n",
       "      <td>4.9671</td>\n",
       "      <td>2.0</td>\n",
       "      <td>242.0</td>\n",
       "      <td>17.8</td>\n",
       "      <td>396.90</td>\n",
       "      <td>9.14</td>\n",
       "      <td>21.6</td>\n",
       "    </tr>\n",
       "    <tr>\n",
       "      <td>2</td>\n",
       "      <td>0.02729</td>\n",
       "      <td>0.0</td>\n",
       "      <td>7.07</td>\n",
       "      <td>0.0</td>\n",
       "      <td>0.469</td>\n",
       "      <td>7.185</td>\n",
       "      <td>61.1</td>\n",
       "      <td>4.9671</td>\n",
       "      <td>2.0</td>\n",
       "      <td>242.0</td>\n",
       "      <td>17.8</td>\n",
       "      <td>392.83</td>\n",
       "      <td>4.03</td>\n",
       "      <td>34.7</td>\n",
       "    </tr>\n",
       "    <tr>\n",
       "      <td>3</td>\n",
       "      <td>0.03237</td>\n",
       "      <td>0.0</td>\n",
       "      <td>2.18</td>\n",
       "      <td>0.0</td>\n",
       "      <td>0.458</td>\n",
       "      <td>6.998</td>\n",
       "      <td>45.8</td>\n",
       "      <td>6.0622</td>\n",
       "      <td>3.0</td>\n",
       "      <td>222.0</td>\n",
       "      <td>18.7</td>\n",
       "      <td>394.63</td>\n",
       "      <td>2.94</td>\n",
       "      <td>33.4</td>\n",
       "    </tr>\n",
       "    <tr>\n",
       "      <td>4</td>\n",
       "      <td>0.06905</td>\n",
       "      <td>0.0</td>\n",
       "      <td>2.18</td>\n",
       "      <td>0.0</td>\n",
       "      <td>0.458</td>\n",
       "      <td>7.147</td>\n",
       "      <td>54.2</td>\n",
       "      <td>6.0622</td>\n",
       "      <td>3.0</td>\n",
       "      <td>222.0</td>\n",
       "      <td>18.7</td>\n",
       "      <td>396.90</td>\n",
       "      <td>5.33</td>\n",
       "      <td>36.2</td>\n",
       "    </tr>\n",
       "  </tbody>\n",
       "</table>\n",
       "</div>"
      ],
      "text/plain": [
       "      CRIM    ZN  INDUS  CHAS    NOX     RM   AGE     DIS  RAD    TAX  \\\n",
       "0  0.00632  18.0   2.31   0.0  0.538  6.575  65.2  4.0900  1.0  296.0   \n",
       "1  0.02731   0.0   7.07   0.0  0.469  6.421  78.9  4.9671  2.0  242.0   \n",
       "2  0.02729   0.0   7.07   0.0  0.469  7.185  61.1  4.9671  2.0  242.0   \n",
       "3  0.03237   0.0   2.18   0.0  0.458  6.998  45.8  6.0622  3.0  222.0   \n",
       "4  0.06905   0.0   2.18   0.0  0.458  7.147  54.2  6.0622  3.0  222.0   \n",
       "\n",
       "   PTRATIO       B  LSTAT  Precio (1000$)  \n",
       "0     15.3  396.90   4.98            24.0  \n",
       "1     17.8  396.90   9.14            21.6  \n",
       "2     17.8  392.83   4.03            34.7  \n",
       "3     18.7  394.63   2.94            33.4  \n",
       "4     18.7  396.90   5.33            36.2  "
      ]
     },
     "execution_count": 27,
     "metadata": {},
     "output_type": "execute_result"
    }
   ],
   "source": [
    "# Creamos un DataFrame con los ejemplos y los nombres de las características\n",
    "boston_df = pd.DataFrame(X, columns=boston.feature_names)\n",
    "# Añadimos la solución (Valor)\n",
    "boston_df['Precio (1000$)'] = Y\n",
    "# Mostramos los 5 primeros ejemplos con su solución\n",
    "boston_df.head()"
   ]
  },
  {
   "cell_type": "markdown",
   "metadata": {},
   "source": [
    "¿Cuántos ejemplos de viviendas hay en el conjunto de datos?"
   ]
  },
  {
   "cell_type": "code",
   "execution_count": 28,
   "metadata": {},
   "outputs": [
    {
     "data": {
      "text/plain": [
       "(506, 13)"
      ]
     },
     "execution_count": 28,
     "metadata": {},
     "output_type": "execute_result"
    }
   ],
   "source": [
    "X.shape   # Número de filas (ejemplos) y columnas (características) de la matriz \"X\""
   ]
  },
  {
   "cell_type": "markdown",
   "metadata": {},
   "source": [
    "#### Solución"
   ]
  },
  {
   "cell_type": "code",
   "execution_count": 29,
   "metadata": {
    "scrolled": true
   },
   "outputs": [
    {
     "data": {
      "text/plain": [
       "array([24. , 21.6, 34.7, 33.4, 36.2, 28.7, 22.9, 27.1, 16.5, 18.9, 15. ,\n",
       "       18.9, 21.7, 20.4, 18.2, 19.9, 23.1, 17.5, 20.2, 18.2, 13.6, 19.6,\n",
       "       15.2, 14.5, 15.6, 13.9, 16.6, 14.8, 18.4, 21. , 12.7, 14.5, 13.2,\n",
       "       13.1, 13.5, 18.9, 20. , 21. , 24.7, 30.8, 34.9, 26.6, 25.3, 24.7,\n",
       "       21.2, 19.3, 20. , 16.6, 14.4, 19.4, 19.7, 20.5, 25. , 23.4, 18.9,\n",
       "       35.4, 24.7, 31.6, 23.3, 19.6, 18.7, 16. , 22.2, 25. , 33. , 23.5,\n",
       "       19.4, 22. , 17.4, 20.9, 24.2, 21.7, 22.8, 23.4, 24.1, 21.4, 20. ,\n",
       "       20.8, 21.2, 20.3, 28. , 23.9, 24.8, 22.9, 23.9, 26.6, 22.5, 22.2,\n",
       "       23.6, 28.7, 22.6, 22. , 22.9, 25. , 20.6, 28.4, 21.4, 38.7, 43.8,\n",
       "       33.2, 27.5, 26.5, 18.6, 19.3, 20.1, 19.5, 19.5, 20.4, 19.8, 19.4,\n",
       "       21.7, 22.8, 18.8, 18.7, 18.5, 18.3, 21.2, 19.2, 20.4, 19.3, 22. ,\n",
       "       20.3, 20.5, 17.3, 18.8, 21.4, 15.7, 16.2, 18. , 14.3, 19.2, 19.6,\n",
       "       23. , 18.4, 15.6, 18.1, 17.4, 17.1, 13.3, 17.8, 14. , 14.4, 13.4,\n",
       "       15.6, 11.8, 13.8, 15.6, 14.6, 17.8, 15.4, 21.5, 19.6, 15.3, 19.4,\n",
       "       17. , 15.6, 13.1, 41.3, 24.3, 23.3, 27. , 50. , 50. , 50. , 22.7,\n",
       "       25. , 50. , 23.8, 23.8, 22.3, 17.4, 19.1, 23.1, 23.6, 22.6, 29.4,\n",
       "       23.2, 24.6, 29.9, 37.2, 39.8, 36.2, 37.9, 32.5, 26.4, 29.6, 50. ,\n",
       "       32. , 29.8, 34.9, 37. , 30.5, 36.4, 31.1, 29.1, 50. , 33.3, 30.3,\n",
       "       34.6, 34.9, 32.9, 24.1, 42.3, 48.5, 50. , 22.6, 24.4, 22.5, 24.4,\n",
       "       20. , 21.7, 19.3, 22.4, 28.1, 23.7, 25. , 23.3, 28.7, 21.5, 23. ,\n",
       "       26.7, 21.7, 27.5, 30.1, 44.8, 50. , 37.6, 31.6, 46.7, 31.5, 24.3,\n",
       "       31.7, 41.7, 48.3, 29. , 24. , 25.1, 31.5, 23.7, 23.3, 22. , 20.1,\n",
       "       22.2, 23.7, 17.6, 18.5, 24.3, 20.5, 24.5, 26.2, 24.4, 24.8, 29.6,\n",
       "       42.8, 21.9, 20.9, 44. , 50. , 36. , 30.1, 33.8, 43.1, 48.8, 31. ,\n",
       "       36.5, 22.8, 30.7, 50. , 43.5, 20.7, 21.1, 25.2, 24.4, 35.2, 32.4,\n",
       "       32. , 33.2, 33.1, 29.1, 35.1, 45.4, 35.4, 46. , 50. , 32.2, 22. ,\n",
       "       20.1, 23.2, 22.3, 24.8, 28.5, 37.3, 27.9, 23.9, 21.7, 28.6, 27.1,\n",
       "       20.3, 22.5, 29. , 24.8, 22. , 26.4, 33.1, 36.1, 28.4, 33.4, 28.2,\n",
       "       22.8, 20.3, 16.1, 22.1, 19.4, 21.6, 23.8, 16.2, 17.8, 19.8, 23.1,\n",
       "       21. , 23.8, 23.1, 20.4, 18.5, 25. , 24.6, 23. , 22.2, 19.3, 22.6,\n",
       "       19.8, 17.1, 19.4, 22.2, 20.7, 21.1, 19.5, 18.5, 20.6, 19. , 18.7,\n",
       "       32.7, 16.5, 23.9, 31.2, 17.5, 17.2, 23.1, 24.5, 26.6, 22.9, 24.1,\n",
       "       18.6, 30.1, 18.2, 20.6, 17.8, 21.7, 22.7, 22.6, 25. , 19.9, 20.8,\n",
       "       16.8, 21.9, 27.5, 21.9, 23.1, 50. , 50. , 50. , 50. , 50. , 13.8,\n",
       "       13.8, 15. , 13.9, 13.3, 13.1, 10.2, 10.4, 10.9, 11.3, 12.3,  8.8,\n",
       "        7.2, 10.5,  7.4, 10.2, 11.5, 15.1, 23.2,  9.7, 13.8, 12.7, 13.1,\n",
       "       12.5,  8.5,  5. ,  6.3,  5.6,  7.2, 12.1,  8.3,  8.5,  5. , 11.9,\n",
       "       27.9, 17.2, 27.5, 15. , 17.2, 17.9, 16.3,  7. ,  7.2,  7.5, 10.4,\n",
       "        8.8,  8.4, 16.7, 14.2, 20.8, 13.4, 11.7,  8.3, 10.2, 10.9, 11. ,\n",
       "        9.5, 14.5, 14.1, 16.1, 14.3, 11.7, 13.4,  9.6,  8.7,  8.4, 12.8,\n",
       "       10.5, 17.1, 18.4, 15.4, 10.8, 11.8, 14.9, 12.6, 14.1, 13. , 13.4,\n",
       "       15.2, 16.1, 17.8, 14.9, 14.1, 12.7, 13.5, 14.9, 20. , 16.4, 17.7,\n",
       "       19.5, 20.2, 21.4, 19.9, 19. , 19.1, 19.1, 20.1, 19.9, 19.6, 23.2,\n",
       "       29.8, 13.8, 13.3, 16.7, 12. , 14.6, 21.4, 23. , 23.7, 25. , 21.8,\n",
       "       20.6, 21.2, 19.1, 20.6, 15.2,  7. ,  8.1, 13.6, 20.1, 21.8, 24.5,\n",
       "       23.1, 19.7, 18.3, 21.2, 17.5, 16.8, 22.4, 20.6, 23.9, 22. , 11.9])"
      ]
     },
     "execution_count": 29,
     "metadata": {},
     "output_type": "execute_result"
    }
   ],
   "source": [
    "Y   # Muestra el vector \"Y\""
   ]
  },
  {
   "cell_type": "markdown",
   "metadata": {},
   "source": [
    "### 3.2. Dividimos el Conjunto de Datos"
   ]
  },
  {
   "cell_type": "markdown",
   "metadata": {},
   "source": [
    "Dividimos el conjunto de datos en dos:\n",
    "\n",
    " - Conjunto de entrenamiento (o `training set`)\n",
    "\n",
    " - Conjunto de prueba (o `test set`)"
   ]
  },
  {
   "cell_type": "code",
   "execution_count": 30,
   "metadata": {},
   "outputs": [],
   "source": [
    "# Importamos función para dividir el conjunto de datos\n",
    "from sklearn.model_selection import train_test_split\n",
    "# Fijamos semilla para generar números aleatorios (por reproducibilidad,\n",
    "# para que obtengamos los mismos resultados cada vez)\n",
    "semilla = 3\n",
    "# Dividimos el conjunto de datos (70% entrenamiento, 30% prueba)\n",
    "X_train,X_test,Y_train,Y_test = train_test_split(X,Y,test_size=.3,random_state=semilla)"
   ]
  },
  {
   "cell_type": "markdown",
   "metadata": {},
   "source": [
    "#### Número de ejemplos en el conjunto de entrenamiento"
   ]
  },
  {
   "cell_type": "code",
   "execution_count": 31,
   "metadata": {},
   "outputs": [
    {
     "data": {
      "text/plain": [
       "354"
      ]
     },
     "execution_count": 31,
     "metadata": {},
     "output_type": "execute_result"
    }
   ],
   "source": [
    "len(X_train)"
   ]
  },
  {
   "cell_type": "markdown",
   "metadata": {},
   "source": [
    "#### Número de ejemplos en el conjunto de prueba"
   ]
  },
  {
   "cell_type": "code",
   "execution_count": 32,
   "metadata": {},
   "outputs": [
    {
     "data": {
      "text/plain": [
       "152"
      ]
     },
     "execution_count": 32,
     "metadata": {},
     "output_type": "execute_result"
    }
   ],
   "source": [
    "len(X_test)"
   ]
  },
  {
   "cell_type": "markdown",
   "metadata": {},
   "source": [
    "### 3.3. Importamos el Algoritmo de Machine Learning"
   ]
  },
  {
   "cell_type": "code",
   "execution_count": 33,
   "metadata": {},
   "outputs": [],
   "source": [
    "# Importamos funciones para árboles de decisión\n",
    "from sklearn import tree\n",
    "regresor = tree.DecisionTreeRegressor(random_state=semilla)"
   ]
  },
  {
   "cell_type": "markdown",
   "metadata": {},
   "source": [
    "### 3.4. Entrenamiento"
   ]
  },
  {
   "cell_type": "markdown",
   "metadata": {},
   "source": [
    "Algoritmo o función de aprendizaje (`fit`):\n",
    " - Entrada:\n",
    "    - Conjunto de entrenamiento:\n",
    "       - Ejemplos de entrenamiento (`X_train`)\n",
    "       - Etiquetas de los ejemplos de entrenamiento (`Y_train`)"
   ]
  },
  {
   "cell_type": "code",
   "execution_count": 34,
   "metadata": {},
   "outputs": [],
   "source": [
    "regresor.fit(X_train,Y_train);"
   ]
  },
  {
   "cell_type": "markdown",
   "metadata": {},
   "source": [
    "Resultado: Modelo (representación del conocimiento aprendido)."
   ]
  },
  {
   "cell_type": "markdown",
   "metadata": {},
   "source": [
    "### 3.5. Test"
   ]
  },
  {
   "cell_type": "markdown",
   "metadata": {},
   "source": [
    "Algoritmo o función de inferencia (`predict`):\n",
    " - Entrada:\n",
    "    - Conjunto de prueba:\n",
    "       - Ejemplos de prueba (`X_test`)\n",
    " - Salida:\n",
    "    - Solución (valor numérico)"
   ]
  },
  {
   "cell_type": "markdown",
   "metadata": {},
   "source": [
    "#### Predecimos solución de un único nuevo ejemplo"
   ]
  },
  {
   "cell_type": "code",
   "execution_count": 35,
   "metadata": {},
   "outputs": [],
   "source": [
    "precio = regresor.predict(X_test[:1])"
   ]
  },
  {
   "cell_type": "code",
   "execution_count": 36,
   "metadata": {},
   "outputs": [
    {
     "data": {
      "text/plain": [
       "array([41.7])"
      ]
     },
     "execution_count": 36,
     "metadata": {},
     "output_type": "execute_result"
    }
   ],
   "source": [
    "precio"
   ]
  },
  {
   "cell_type": "markdown",
   "metadata": {},
   "source": [
    "#### Predecimos soluciones para todo el conjunto de prueba"
   ]
  },
  {
   "cell_type": "code",
   "execution_count": 37,
   "metadata": {},
   "outputs": [],
   "source": [
    "Y_pred = regresor.predict(X_test)"
   ]
  },
  {
   "cell_type": "code",
   "execution_count": 38,
   "metadata": {},
   "outputs": [
    {
     "data": {
      "text/plain": [
       "array([41.7, 18.4, 12.6, 30.5, 20.9, 20.3, 14.3,  7. , 22.1, 21.7,  8.1,\n",
       "       28.7, 34.6, 29.8,  5. , 17.8, 23.1, 15.1, 13.9, 22. , 22. , 43.1,\n",
       "       24.8, 24.1,  9.5, 24.2, 20.5, 20.2, 21. , 24. , 19.1, 36.1, 15. ,\n",
       "       21. , 13.6, 13.1, 24.4, 33.8, 18.6, 24.8, 16.8, 10.8, 20.5, 19. ,\n",
       "       19.5, 28.7, 22. , 21.7, 30.5, 19.4, 26.2, 19.6, 50. , 21.7, 19.5,\n",
       "       10.2, 50. , 13.1, 31.1, 19.2, 19.6, 22.6, 28.4, 30.5, 22.6, 21.1,\n",
       "       35.1, 23.4, 28.5, 25. , 25.3, 31. , 17.4, 30.5,  9.6, 21.7, 17.6,\n",
       "       27. , 22. , 13.8, 25.1, 16.7, 13.8, 20.4, 20.6, 12.1, 25.3,  8.5,\n",
       "       18.6, 25. , 21. , 24.5, 26.4, 48.3, 23.7, 15.2, 48.5, 10.2, 23. ,\n",
       "       33.2, 19.5, 18.6, 14.1, 19.6, 30.5, 13.6, 20.1, 14.4, 23.1, 38.7,\n",
       "       17.2,  8.3, 15.1, 25. , 24.8, 18.2, 32.9, 30.5, 24.4, 30.5, 10.9,\n",
       "       10.8, 13.1, 24.3, 22.5, 20.5, 16.6, 33. , 19. , 21.1, 22. , 48.3,\n",
       "        9.5, 29.9, 20. , 13.9, 20.1,  7.5, 21. , 24.8, 13.4, 22.6, 31.5,\n",
       "       21.2, 17.2, 50. , 14.1, 22. , 18.4, 15. ,  8.1, 23.5])"
      ]
     },
     "execution_count": 38,
     "metadata": {},
     "output_type": "execute_result"
    }
   ],
   "source": [
    "Y_pred"
   ]
  },
  {
   "cell_type": "markdown",
   "metadata": {},
   "source": [
    "### 3.6. Medimos el Rendimiento"
   ]
  },
  {
   "cell_type": "code",
   "execution_count": 39,
   "metadata": {
    "scrolled": true
   },
   "outputs": [
    {
     "data": {
      "text/plain": [
       "array([44.8, 17.1, 17.8, 33.1, 21.9, 21. , 18.4, 10.4, 23.1, 20. , 15.7,\n",
       "       41.3, 33.3, 30.7,  8.5,  6.3, 21.2, 16.2, 15.6, 24.1, 23.9, 50. ,\n",
       "       23.2, 23.4, 12.8, 24.6, 18.8, 16.1, 18.2, 24.3, 14.8, 37.3, 21.4,\n",
       "       18.6, 18.8, 13.9, 24.5, 31.5, 18.2, 20.7, 19.4,  9.7, 21.5, 14.9,\n",
       "       21.7, 26.5, 20.7, 19.3, 24.5, 19.3, 26.6, 23. , 45.4, 19.8, 22.7,\n",
       "       23.1, 50. , 17.8, 29.1, 19.2, 22.7, 21.2, 37.2, 31.6, 16.1, 22.2,\n",
       "       34.9, 20.5, 28. , 29.1, 24.7, 22. , 15.6, 37. , 11.8, 21.7, 19.4,\n",
       "       23.3, 16.5, 16.7, 23.9, 15.2, 11.9, 19.9, 22.8, 11.3, 25.2, 11.5,\n",
       "       22. , 21.6, 19.9, 16.8, 19.3, 50. , 29.4, 13.3, 50. , 11.7, 21.7,\n",
       "       33.4, 20.2, 19.4, 14.9, 19.6, 35.4, 12. , 20.4, 23.7, 21. , 50. ,\n",
       "       27.5, 12.7, 17.4, 23.8, 22.9, 18.5, 30.3, 31.2, 16. , 23.3, 15. ,\n",
       "       10.2, 12.5, 19.6, 19.7, 19.5, 15. , 35.4, 13.5, 20.6, 24.7, 21.9,\n",
       "       17.1, 23.6, 21.1, 15.6, 18.5,  8.3, 14.5, 23.9, 11.8, 24.6, 24.8,\n",
       "       18.7, 17.9, 48.8, 13. , 29.6, 18. , 20.1, 17.3, 23.1])"
      ]
     },
     "execution_count": 39,
     "metadata": {},
     "output_type": "execute_result"
    }
   ],
   "source": [
    "Y_test  # Estimaciones correctas"
   ]
  },
  {
   "cell_type": "code",
   "execution_count": 40,
   "metadata": {
    "scrolled": true
   },
   "outputs": [
    {
     "data": {
      "text/plain": [
       "array([41.7, 18.4, 12.6, 30.5, 20.9, 20.3, 14.3,  7. , 22.1, 21.7,  8.1,\n",
       "       28.7, 34.6, 29.8,  5. , 17.8, 23.1, 15.1, 13.9, 22. , 22. , 43.1,\n",
       "       24.8, 24.1,  9.5, 24.2, 20.5, 20.2, 21. , 24. , 19.1, 36.1, 15. ,\n",
       "       21. , 13.6, 13.1, 24.4, 33.8, 18.6, 24.8, 16.8, 10.8, 20.5, 19. ,\n",
       "       19.5, 28.7, 22. , 21.7, 30.5, 19.4, 26.2, 19.6, 50. , 21.7, 19.5,\n",
       "       10.2, 50. , 13.1, 31.1, 19.2, 19.6, 22.6, 28.4, 30.5, 22.6, 21.1,\n",
       "       35.1, 23.4, 28.5, 25. , 25.3, 31. , 17.4, 30.5,  9.6, 21.7, 17.6,\n",
       "       27. , 22. , 13.8, 25.1, 16.7, 13.8, 20.4, 20.6, 12.1, 25.3,  8.5,\n",
       "       18.6, 25. , 21. , 24.5, 26.4, 48.3, 23.7, 15.2, 48.5, 10.2, 23. ,\n",
       "       33.2, 19.5, 18.6, 14.1, 19.6, 30.5, 13.6, 20.1, 14.4, 23.1, 38.7,\n",
       "       17.2,  8.3, 15.1, 25. , 24.8, 18.2, 32.9, 30.5, 24.4, 30.5, 10.9,\n",
       "       10.8, 13.1, 24.3, 22.5, 20.5, 16.6, 33. , 19. , 21.1, 22. , 48.3,\n",
       "        9.5, 29.9, 20. , 13.9, 20.1,  7.5, 21. , 24.8, 13.4, 22.6, 31.5,\n",
       "       21.2, 17.2, 50. , 14.1, 22. , 18.4, 15. ,  8.1, 23.5])"
      ]
     },
     "execution_count": 40,
     "metadata": {},
     "output_type": "execute_result"
    }
   ],
   "source": [
    "Y_pred  # Estimaciones realizadas por el algoritmo"
   ]
  },
  {
   "cell_type": "markdown",
   "metadata": {},
   "source": [
    "#### Error cometido"
   ]
  },
  {
   "cell_type": "code",
   "execution_count": 41,
   "metadata": {},
   "outputs": [
    {
     "data": {
      "text/plain": [
       "array([  3.1,  -1.3,   5.2,   2.6,   1. ,   0.7,   4.1,   3.4,   1. ,\n",
       "        -1.7,   7.6,  12.6,  -1.3,   0.9,   3.5, -11.5,  -1.9,   1.1,\n",
       "         1.7,   2.1,   1.9,   6.9,  -1.6,  -0.7,   3.3,   0.4,  -1.7,\n",
       "        -4.1,  -2.8,   0.3,  -4.3,   1.2,   6.4,  -2.4,   5.2,   0.8,\n",
       "         0.1,  -2.3,  -0.4,  -4.1,   2.6,  -1.1,   1. ,  -4.1,   2.2,\n",
       "        -2.2,  -1.3,  -2.4,  -6. ,  -0.1,   0.4,   3.4,  -4.6,  -1.9,\n",
       "         3.2,  12.9,   0. ,   4.7,  -2. ,   0. ,   3.1,  -1.4,   8.8,\n",
       "         1.1,  -6.5,   1.1,  -0.2,  -2.9,  -0.5,   4.1,  -0.6,  -9. ,\n",
       "        -1.8,   6.5,   2.2,   0. ,   1.8,  -3.7,  -5.5,   2.9,  -1.2,\n",
       "        -1.5,  -1.9,  -0.5,   2.2,  -0.8,  -0.1,   3. ,   3.4,  -3.4,\n",
       "        -1.1,  -7.7,  -7.1,   1.7,   5.7,  -1.9,   1.5,   1.5,  -1.3,\n",
       "         0.2,   0.7,   0.8,   0.8,   0. ,   4.9,  -1.6,   0.3,   9.3,\n",
       "        -2.1,  11.3,  10.3,   4.4,   2.3,  -1.2,  -1.9,   0.3,  -2.6,\n",
       "         0.7,  -8.4,  -7.2,   4.1,  -0.6,  -0.6,  -4.7,  -2.8,  -1. ,\n",
       "        -1.6,   2.4,  -5.5,  -0.5,   2.7, -26.4,   7.6,  -6.3,   1.1,\n",
       "         1.7,  -1.6,   0.8,  -6.5,  -0.9,  -1.6,   2. ,  -6.7,  -2.5,\n",
       "         0.7,  -1.2,  -1.1,   7.6,  -0.4,   5.1,   9.2,  -0.4])"
      ]
     },
     "execution_count": 41,
     "metadata": {},
     "output_type": "execute_result"
    }
   ],
   "source": [
    "Y_test-Y_pred  # Diferencias = Errores cometidos"
   ]
  },
  {
   "cell_type": "markdown",
   "metadata": {},
   "source": [
    "$$RMSE = \\sqrt{\\frac{\\sum_{i=0}^N(Estimaciones\\ Correctas-Estimaciones\\ del\\ Algoritmo)^{2}}{N}}$$\n",
    "\n",
    "*N*: Número de ejemplos en el conjunto de prueba."
   ]
  },
  {
   "cell_type": "code",
   "execution_count": 42,
   "metadata": {},
   "outputs": [
    {
     "name": "stdout",
     "output_type": "stream",
     "text": [
      "RMSE: 4.596\n"
     ]
    }
   ],
   "source": [
    "# Importamos función para calcular error cuadrático medio (MSE)\n",
    "from sklearn.metrics import mean_squared_error\n",
    "# Importamos numpy para calcular la raíz cuadrada (sqrt)\n",
    "import numpy as np\n",
    "# Calculamos la raíz cuadrada del error cuadrático medio (RMSE)\n",
    "rmse = np.sqrt(mean_squared_error(Y_test,Y_pred))\n",
    "print('RMSE: %.3f' % rmse)"
   ]
  },
  {
   "cell_type": "markdown",
   "metadata": {},
   "source": [
    "### Código Completo del Ejemplo"
   ]
  },
  {
   "cell_type": "code",
   "execution_count": 46,
   "metadata": {},
   "outputs": [
    {
     "name": "stdout",
     "output_type": "stream",
     "text": [
      "RMSE: 4.596\n"
     ]
    }
   ],
   "source": [
    "# Importamos función para cargar el conjunto de datos Boston\n",
    "from sklearn.datasets import load_boston\n",
    "boston = load_boston()  # Cargamos el conjunto de datos Boston\n",
    "X = boston.data    # Características (X)\n",
    "Y = boston.target  # Solución (Y)\n",
    "# Importamos función para dividir el conjunto de datos\n",
    "from sklearn.model_selection import train_test_split\n",
    "# Fijamos semilla para generar números aleatorios (por reproducibilidad,\n",
    "# para que obtengamos los mismos resultados cada vez)\n",
    "semilla = 3\n",
    "# Dividimos el conjunto de datos (70% entrenamiento, 30% prueba)\n",
    "X_train,X_test,Y_train,Y_test = train_test_split(X,Y,test_size=.3,random_state=semilla)\n",
    "# Importamos funciones para árboles de decisión\n",
    "from sklearn import tree\n",
    "regresor = tree.DecisionTreeRegressor(random_state=semilla)\n",
    "regresor.fit(X_train,Y_train) # Entrenamiento\n",
    "Y_pred = regresor.predict(X_test) # Test\n",
    "# Evaluación del rendimiento del modelo\n",
    "# Importamos función para calcular error cuadrático medio (MSE)\n",
    "from sklearn.metrics import mean_squared_error\n",
    "# Importamos numpy para calcular la raíz cuadrada (sqrt)\n",
    "import numpy as np\n",
    "# Calculamos la raíz cuadrada del error cuadrático medio (RMSE)\n",
    "rmse = np.sqrt(mean_squared_error(Y_test,Y_pred))\n",
    "print('RMSE: %.3f' % rmse)"
   ]
  },
  {
   "cell_type": "markdown",
   "metadata": {},
   "source": [
    "## 4. Ejemplos de Algoritmos para Aprendizaje Supervisado\n",
    "___"
   ]
  },
  {
   "cell_type": "markdown",
   "metadata": {},
   "source": [
    " - Regresión lineal\n",
    " - Regresión logística\n",
    " - Árboles de decisión\n",
    " - k-Vecinos más cercanos\n",
    " - Máquinas de soporte vectorial\n",
    " - Redes neuronales artificiales\n",
    " - Random Forest (bosques aleatorios)\n",
    " - Gradient Boosting"
   ]
  },
  {
   "cell_type": "markdown",
   "metadata": {},
   "source": [
    "## 5. Siguiente\n",
    "___"
   ]
  },
  {
   "cell_type": "markdown",
   "metadata": {},
   "source": [
    "Si tienes alguna duda o comentario, puedes dejárnoslo en el [vídeo](https://www.youtube.com/watch?v=HfRfKQ8ZUjQ) en el que explicamos este notebook.\n",
    "\n",
    "Para más vídeos sobre este tema, puedes visitar nuestro [canal de YouTube](https://www.youtube.com/channel/UCAUedO0e4eNjycH4_hU4-1g).\n",
    "\n",
    "¡Esperamos que os sea de ayuda!"
   ]
  }
 ],
 "metadata": {
  "kernelspec": {
   "display_name": "Python 3",
   "language": "python",
   "name": "python3"
  },
  "language_info": {
   "codemirror_mode": {
    "name": "ipython",
    "version": 3
   },
   "file_extension": ".py",
   "mimetype": "text/x-python",
   "name": "python",
   "nbconvert_exporter": "python",
   "pygments_lexer": "ipython3",
   "version": "3.7.3"
  }
 },
 "nbformat": 4,
 "nbformat_minor": 4
}
